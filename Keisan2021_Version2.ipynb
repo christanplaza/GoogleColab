{
  "nbformat": 4,
  "nbformat_minor": 0,
  "metadata": {
    "colab": {
      "name": "Keisan2021_Version2.ipynb",
      "provenance": [],
      "collapsed_sections": [
        "qIq_ef9Lawrn",
        "iPKhzBUb7mbq",
        "DK80J8056d6F",
        "eIElffwkG7TU",
        "U2pDenoFIlCV",
        "y_nUOLDyI6Bt",
        "BkOex1lH3J-4",
        "UlGYw9_6JWnk"
      ],
      "authorship_tag": "ABX9TyMfFu7rydGqVrPp3MfmUV+o",
      "include_colab_link": true
    },
    "kernelspec": {
      "name": "python3",
      "display_name": "Python 3"
    },
    "language_info": {
      "name": "python"
    }
  },
  "cells": [
    {
      "cell_type": "markdown",
      "metadata": {
        "id": "view-in-github",
        "colab_type": "text"
      },
      "source": [
        "<a href=\"https://colab.research.google.com/github/Shota-Takagi-aufgang/GoogleColab/blob/main/Keisan2021_Version2.ipynb\" target=\"_parent\"><img src=\"https://colab.research.google.com/assets/colab-badge.svg\" alt=\"Open In Colab\"/></a>"
      ]
    },
    {
      "cell_type": "markdown",
      "metadata": {
        "id": "lZr6OlWtbG9P"
      },
      "source": [
        "#Set up"
      ]
    },
    {
      "cell_type": "code",
      "metadata": {
        "id": "dVc5HJLi9E_Y"
      },
      "source": [
        "# Mount Google Drive--------------\n",
        "from google.colab import drive\n",
        "drive.mount('/content/gdrive',force_remount=True)\n",
        "\n",
        "# Setup functions \n",
        "import pandas as pd\n",
        "import numpy as np\n",
        "import math\n",
        "from pylab import *\n",
        "\n",
        "#For visuallization\n",
        "import matplotlib.pyplot as plt\n",
        "from matplotlib import font_manager # 日本語を使うために必要\n",
        "\n",
        "import sys\n",
        "import time\n",
        "\n",
        "#For sparse matrix calculation　疎行行列計算用\n",
        "from scipy.sparse.linalg import spsolve\n",
        "from scipy.sparse import csr_matrix"
      ],
      "execution_count": null,
      "outputs": []
    },
    {
      "cell_type": "markdown",
      "metadata": {
        "id": "Vrn_xN-rbMwn"
      },
      "source": [
        "#Reading data"
      ]
    },
    {
      "cell_type": "code",
      "metadata": {
        "id": "-d9C7p24Zhe3"
      },
      "source": [
        "df0 = pd.read_csv(\"/content/gdrive/My Drive/計算力学特論/keisan2021_inputdata.txt\", sep='\\s+', nrows=2, header=None, usecols=[0]) \n",
        "NN = df0.iat[0, 0]             #The Number of Node\n",
        "NE = df0.iat[1, 0]             #The Number of Triangle Elements"
      ],
      "execution_count": null,
      "outputs": []
    },
    {
      "cell_type": "code",
      "metadata": {
        "id": "g1CR_DHC0YXA",
        "colab": {
          "base_uri": "https://localhost:8080/"
        },
        "outputId": "c75df31d-de34-40d3-8bdc-7152eba6b1fd"
      },
      "source": [
        "df1 = pd.read_csv(\"/content/gdrive/My Drive/計算力学特論/keisan2021_inputdata.txt\", sep='\\s+', index_col=0, skiprows=2, nrows=NN, header=None, names=['Node_Index', 'x', 'y']) \n",
        "df1"
      ],
      "execution_count": null,
      "outputs": [
        {
          "output_type": "execute_result",
          "data": {
            "text/html": [
              "<div>\n",
              "<style scoped>\n",
              "    .dataframe tbody tr th:only-of-type {\n",
              "        vertical-align: middle;\n",
              "    }\n",
              "\n",
              "    .dataframe tbody tr th {\n",
              "        vertical-align: top;\n",
              "    }\n",
              "\n",
              "    .dataframe thead th {\n",
              "        text-align: right;\n",
              "    }\n",
              "</style>\n",
              "<table border=\"1\" class=\"dataframe\">\n",
              "  <thead>\n",
              "    <tr style=\"text-align: right;\">\n",
              "      <th></th>\n",
              "      <th>x</th>\n",
              "      <th>y</th>\n",
              "    </tr>\n",
              "    <tr>\n",
              "      <th>Node_Index</th>\n",
              "      <th></th>\n",
              "      <th></th>\n",
              "    </tr>\n",
              "  </thead>\n",
              "  <tbody>\n",
              "    <tr>\n",
              "      <th>1</th>\n",
              "      <td>-0.9750</td>\n",
              "      <td>-0.4750</td>\n",
              "    </tr>\n",
              "    <tr>\n",
              "      <th>2</th>\n",
              "      <td>-1.0000</td>\n",
              "      <td>-0.4750</td>\n",
              "    </tr>\n",
              "    <tr>\n",
              "      <th>3</th>\n",
              "      <td>-0.9750</td>\n",
              "      <td>-0.5000</td>\n",
              "    </tr>\n",
              "    <tr>\n",
              "      <th>4</th>\n",
              "      <td>-1.0000</td>\n",
              "      <td>-0.5000</td>\n",
              "    </tr>\n",
              "    <tr>\n",
              "      <th>5</th>\n",
              "      <td>-0.9875</td>\n",
              "      <td>-0.4875</td>\n",
              "    </tr>\n",
              "    <tr>\n",
              "      <th>...</th>\n",
              "      <td>...</td>\n",
              "      <td>...</td>\n",
              "    </tr>\n",
              "    <tr>\n",
              "      <th>6839</th>\n",
              "      <td>0.9375</td>\n",
              "      <td>0.5000</td>\n",
              "    </tr>\n",
              "    <tr>\n",
              "      <th>6840</th>\n",
              "      <td>0.9750</td>\n",
              "      <td>0.5000</td>\n",
              "    </tr>\n",
              "    <tr>\n",
              "      <th>6841</th>\n",
              "      <td>0.9625</td>\n",
              "      <td>0.5000</td>\n",
              "    </tr>\n",
              "    <tr>\n",
              "      <th>6842</th>\n",
              "      <td>1.0000</td>\n",
              "      <td>0.5000</td>\n",
              "    </tr>\n",
              "    <tr>\n",
              "      <th>6843</th>\n",
              "      <td>0.9875</td>\n",
              "      <td>0.5000</td>\n",
              "    </tr>\n",
              "  </tbody>\n",
              "</table>\n",
              "<p>6843 rows × 2 columns</p>\n",
              "</div>"
            ],
            "text/plain": [
              "                 x       y\n",
              "Node_Index                \n",
              "1          -0.9750 -0.4750\n",
              "2          -1.0000 -0.4750\n",
              "3          -0.9750 -0.5000\n",
              "4          -1.0000 -0.5000\n",
              "5          -0.9875 -0.4875\n",
              "...            ...     ...\n",
              "6839        0.9375  0.5000\n",
              "6840        0.9750  0.5000\n",
              "6841        0.9625  0.5000\n",
              "6842        1.0000  0.5000\n",
              "6843        0.9875  0.5000\n",
              "\n",
              "[6843 rows x 2 columns]"
            ]
          },
          "metadata": {
            "tags": []
          },
          "execution_count": 121
        }
      ]
    },
    {
      "cell_type": "code",
      "metadata": {
        "colab": {
          "base_uri": "https://localhost:8080/"
        },
        "id": "8WmQyvc-0Orx",
        "outputId": "0866bfc1-0de6-4eaa-c9a1-c5679891f23d"
      },
      "source": [
        "df = df1.reset_index()\n",
        "x = df.x\n",
        "y = df.y\n",
        "df"
      ],
      "execution_count": null,
      "outputs": [
        {
          "output_type": "execute_result",
          "data": {
            "text/html": [
              "<div>\n",
              "<style scoped>\n",
              "    .dataframe tbody tr th:only-of-type {\n",
              "        vertical-align: middle;\n",
              "    }\n",
              "\n",
              "    .dataframe tbody tr th {\n",
              "        vertical-align: top;\n",
              "    }\n",
              "\n",
              "    .dataframe thead th {\n",
              "        text-align: right;\n",
              "    }\n",
              "</style>\n",
              "<table border=\"1\" class=\"dataframe\">\n",
              "  <thead>\n",
              "    <tr style=\"text-align: right;\">\n",
              "      <th></th>\n",
              "      <th>Node_Index</th>\n",
              "      <th>x</th>\n",
              "      <th>y</th>\n",
              "    </tr>\n",
              "  </thead>\n",
              "  <tbody>\n",
              "    <tr>\n",
              "      <th>0</th>\n",
              "      <td>1</td>\n",
              "      <td>-0.9750</td>\n",
              "      <td>-0.4750</td>\n",
              "    </tr>\n",
              "    <tr>\n",
              "      <th>1</th>\n",
              "      <td>2</td>\n",
              "      <td>-1.0000</td>\n",
              "      <td>-0.4750</td>\n",
              "    </tr>\n",
              "    <tr>\n",
              "      <th>2</th>\n",
              "      <td>3</td>\n",
              "      <td>-0.9750</td>\n",
              "      <td>-0.5000</td>\n",
              "    </tr>\n",
              "    <tr>\n",
              "      <th>3</th>\n",
              "      <td>4</td>\n",
              "      <td>-1.0000</td>\n",
              "      <td>-0.5000</td>\n",
              "    </tr>\n",
              "    <tr>\n",
              "      <th>4</th>\n",
              "      <td>5</td>\n",
              "      <td>-0.9875</td>\n",
              "      <td>-0.4875</td>\n",
              "    </tr>\n",
              "    <tr>\n",
              "      <th>...</th>\n",
              "      <td>...</td>\n",
              "      <td>...</td>\n",
              "      <td>...</td>\n",
              "    </tr>\n",
              "    <tr>\n",
              "      <th>6838</th>\n",
              "      <td>6839</td>\n",
              "      <td>0.9375</td>\n",
              "      <td>0.5000</td>\n",
              "    </tr>\n",
              "    <tr>\n",
              "      <th>6839</th>\n",
              "      <td>6840</td>\n",
              "      <td>0.9750</td>\n",
              "      <td>0.5000</td>\n",
              "    </tr>\n",
              "    <tr>\n",
              "      <th>6840</th>\n",
              "      <td>6841</td>\n",
              "      <td>0.9625</td>\n",
              "      <td>0.5000</td>\n",
              "    </tr>\n",
              "    <tr>\n",
              "      <th>6841</th>\n",
              "      <td>6842</td>\n",
              "      <td>1.0000</td>\n",
              "      <td>0.5000</td>\n",
              "    </tr>\n",
              "    <tr>\n",
              "      <th>6842</th>\n",
              "      <td>6843</td>\n",
              "      <td>0.9875</td>\n",
              "      <td>0.5000</td>\n",
              "    </tr>\n",
              "  </tbody>\n",
              "</table>\n",
              "<p>6843 rows × 3 columns</p>\n",
              "</div>"
            ],
            "text/plain": [
              "      Node_Index       x       y\n",
              "0              1 -0.9750 -0.4750\n",
              "1              2 -1.0000 -0.4750\n",
              "2              3 -0.9750 -0.5000\n",
              "3              4 -1.0000 -0.5000\n",
              "4              5 -0.9875 -0.4875\n",
              "...          ...     ...     ...\n",
              "6838        6839  0.9375  0.5000\n",
              "6839        6840  0.9750  0.5000\n",
              "6840        6841  0.9625  0.5000\n",
              "6841        6842  1.0000  0.5000\n",
              "6842        6843  0.9875  0.5000\n",
              "\n",
              "[6843 rows x 3 columns]"
            ]
          },
          "metadata": {
            "tags": []
          },
          "execution_count": 122
        }
      ]
    },
    {
      "cell_type": "code",
      "metadata": {
        "id": "LpHOOegdD-mC"
      },
      "source": [
        "def show3D(x, y, z):   \n",
        "    fig = plt.figure()\n",
        "    X = x\n",
        "    Y = y\n",
        "    Z= z\n",
        "    df = plt.axes(projection='3d')\n",
        "    df.plot_trisurf(X, Y, Z, cmap='viridis', linewidth=0)  \n",
        "    plt.show()\n",
        "    return"
      ],
      "execution_count": null,
      "outputs": []
    },
    {
      "cell_type": "code",
      "metadata": {
        "colab": {
          "base_uri": "https://localhost:8080/"
        },
        "id": "o74BdeS7mb--",
        "outputId": "f501bd5b-1089-4e35-ba73-1b9b646f720b"
      },
      "source": [
        "x0 = df.x\n",
        "y0 = df.y\n",
        "z = np.ones(NN, np.float64)             #板厚t=1\n",
        "show3D(x0, y0, z)"
      ],
      "execution_count": null,
      "outputs": [
        {
          "output_type": "display_data",
          "data": {
            "image/png": "[encoded data removed]",
            "text/plain": [
              "<Figure size 432x288 with 1 Axes>"
            ]
          },
          "metadata": {
            "tags": [],
            "needs_background": "light"
          }
        }
      ]
    },
    {
      "cell_type": "code",
      "metadata": {
        "id": "4NbD_fVevES0",
        "colab": {
          "base_uri": "https://localhost:8080/"
        },
        "outputId": "8b0ce7be-60e0-4adc-856a-075a44990148"
      },
      "source": [
        "Position_Node = df1.values \n",
        "print(Position_Node)"
      ],
      "execution_count": null,
      "outputs": [
        {
          "output_type": "stream",
          "text": [
            "[[-0.975      -0.475     ]\n",
            " [-1.         -0.475     ]\n",
            " [-0.975      -0.49999975]\n",
            " ...\n",
            " [ 0.9625      0.49999988]\n",
            " [ 1.          0.5       ]\n",
            " [ 0.9875      0.49999988]]\n"
          ],
          "name": "stdout"
        }
      ]
    },
    {
      "cell_type": "code",
      "metadata": {
        "id": "RLT1Q19m9RjQ",
        "colab": {
          "base_uri": "https://localhost:8080/"
        },
        "outputId": "fc41fb67-ffef-4569-a658-9b58357fb659"
      },
      "source": [
        "#Pyhton利用のため，接点番号は1-3ではなく0-2で定義する\n",
        "df2 = pd.read_csv(\"/content/gdrive/My Drive/計算力学特論/keisan2021_inputdata.txt\", sep='\\s+', index_col=0, skiprows=NN+2, header=None, names=['Element_Index', 'Node_Type', 'Node0', 'Node1', 'Node2']) \n",
        "df2"
      ],
      "execution_count": null,
      "outputs": [
        {
          "output_type": "execute_result",
          "data": {
            "text/html": [
              "<div>\n",
              "<style scoped>\n",
              "    .dataframe tbody tr th:only-of-type {\n",
              "        vertical-align: middle;\n",
              "    }\n",
              "\n",
              "    .dataframe tbody tr th {\n",
              "        vertical-align: top;\n",
              "    }\n",
              "\n",
              "    .dataframe thead th {\n",
              "        text-align: right;\n",
              "    }\n",
              "</style>\n",
              "<table border=\"1\" class=\"dataframe\">\n",
              "  <thead>\n",
              "    <tr style=\"text-align: right;\">\n",
              "      <th></th>\n",
              "      <th>Node_Type</th>\n",
              "      <th>Node0</th>\n",
              "      <th>Node1</th>\n",
              "      <th>Node2</th>\n",
              "    </tr>\n",
              "    <tr>\n",
              "      <th>Element_Index</th>\n",
              "      <th></th>\n",
              "      <th></th>\n",
              "      <th></th>\n",
              "      <th></th>\n",
              "    </tr>\n",
              "  </thead>\n",
              "  <tbody>\n",
              "    <tr>\n",
              "      <th>1</th>\n",
              "      <td>1</td>\n",
              "      <td>3</td>\n",
              "      <td>5</td>\n",
              "      <td>4</td>\n",
              "    </tr>\n",
              "    <tr>\n",
              "      <th>2</th>\n",
              "      <td>1</td>\n",
              "      <td>3</td>\n",
              "      <td>1</td>\n",
              "      <td>5</td>\n",
              "    </tr>\n",
              "    <tr>\n",
              "      <th>3</th>\n",
              "      <td>1</td>\n",
              "      <td>4</td>\n",
              "      <td>5</td>\n",
              "      <td>2</td>\n",
              "    </tr>\n",
              "    <tr>\n",
              "      <th>4</th>\n",
              "      <td>1</td>\n",
              "      <td>5</td>\n",
              "      <td>1</td>\n",
              "      <td>2</td>\n",
              "    </tr>\n",
              "    <tr>\n",
              "      <th>5</th>\n",
              "      <td>1</td>\n",
              "      <td>7</td>\n",
              "      <td>8</td>\n",
              "      <td>3</td>\n",
              "    </tr>\n",
              "    <tr>\n",
              "      <th>...</th>\n",
              "      <td>...</td>\n",
              "      <td>...</td>\n",
              "      <td>...</td>\n",
              "      <td>...</td>\n",
              "    </tr>\n",
              "    <tr>\n",
              "      <th>13436</th>\n",
              "      <td>1</td>\n",
              "      <td>6518</td>\n",
              "      <td>6841</td>\n",
              "      <td>6516</td>\n",
              "    </tr>\n",
              "    <tr>\n",
              "      <th>13437</th>\n",
              "      <td>1</td>\n",
              "      <td>6842</td>\n",
              "      <td>6840</td>\n",
              "      <td>6843</td>\n",
              "    </tr>\n",
              "    <tr>\n",
              "      <th>13438</th>\n",
              "      <td>1</td>\n",
              "      <td>6520</td>\n",
              "      <td>6842</td>\n",
              "      <td>6843</td>\n",
              "    </tr>\n",
              "    <tr>\n",
              "      <th>13439</th>\n",
              "      <td>1</td>\n",
              "      <td>6518</td>\n",
              "      <td>6843</td>\n",
              "      <td>6840</td>\n",
              "    </tr>\n",
              "    <tr>\n",
              "      <th>13440</th>\n",
              "      <td>1</td>\n",
              "      <td>6520</td>\n",
              "      <td>6843</td>\n",
              "      <td>6518</td>\n",
              "    </tr>\n",
              "  </tbody>\n",
              "</table>\n",
              "<p>13440 rows × 4 columns</p>\n",
              "</div>"
            ],
            "text/plain": [
              "               Node_Type  Node0  Node1  Node2\n",
              "Element_Index                                \n",
              "1                      1      3      5      4\n",
              "2                      1      3      1      5\n",
              "3                      1      4      5      2\n",
              "4                      1      5      1      2\n",
              "5                      1      7      8      3\n",
              "...                  ...    ...    ...    ...\n",
              "13436                  1   6518   6841   6516\n",
              "13437                  1   6842   6840   6843\n",
              "13438                  1   6520   6842   6843\n",
              "13439                  1   6518   6843   6840\n",
              "13440                  1   6520   6843   6518\n",
              "\n",
              "[13440 rows x 4 columns]"
            ]
          },
          "metadata": {
            "tags": []
          },
          "execution_count": 125
        }
      ]
    },
    {
      "cell_type": "code",
      "metadata": {
        "id": "vFmNPgrEt0pP",
        "colab": {
          "base_uri": "https://localhost:8080/"
        },
        "outputId": "931b25a9-0ca7-494a-895a-f579c5e874b4"
      },
      "source": [
        "Element = (df2.drop(\"Node_Type\", axis=1)).values\n",
        "print(Element)\n",
        "print(Element[0, 2])"
      ],
      "execution_count": null,
      "outputs": [
        {
          "output_type": "stream",
          "text": [
            "[[   3    5    4]\n",
            " [   3    1    5]\n",
            " [   4    5    2]\n",
            " ...\n",
            " [6520 6842 6843]\n",
            " [6518 6843 6840]\n",
            " [6520 6843 6518]]\n",
            "4\n"
          ],
          "name": "stdout"
        }
      ]
    },
    {
      "cell_type": "code",
      "metadata": {
        "id": "5ue-UAOr_nwX"
      },
      "source": [
        "Position_in_Element = np.zeros((NE, 3, 2), np.float64)\n",
        "for e in range(NE):\n",
        "    for i in range(3):\n",
        "        for d in range(2):\n",
        "            Position_in_Element[e, i, d] = Position_Node[(Element[e, i]-1), d]"
      ],
      "execution_count": null,
      "outputs": []
    },
    {
      "cell_type": "code",
      "metadata": {
        "id": "wc3A7Sbq-cs5",
        "colab": {
          "base_uri": "https://localhost:8080/"
        },
        "outputId": "d795c02d-f6f5-425f-e9a7-9aa355a27392"
      },
      "source": [
        "values = {}\n",
        "for e in range(NE):\n",
        "    values[e] = {\n",
        "        'x': {\n",
        "            0: Position_in_Element[e, 0, 0],\n",
        "            1: Position_in_Element[e, 1, 0],\n",
        "            2: Position_in_Element[e, 2, 0]\n",
        "        },\n",
        "        'y': {\n",
        "            0: Position_in_Element[e, 0, 1],\n",
        "            1: Position_in_Element[e, 1, 1],\n",
        "            2: Position_in_Element[e, 2, 1]\n",
        "        }\n",
        "    }\n",
        "# values[e][x or y][0-2]\n",
        "print(values[0])\n",
        "print(values[0]['x'])"
      ],
      "execution_count": null,
      "outputs": [
        {
          "output_type": "stream",
          "text": [
            "{'x': {0: -0.975, 1: -0.9875, 2: -1.0}, 'y': {0: -0.49999975000249997, 1: -0.48749987500124997, 2: -0.49999975000249997}}\n",
            "{0: -0.975, 1: -0.9875, 2: -1.0}\n"
          ],
          "name": "stdout"
        }
      ]
    },
    {
      "cell_type": "markdown",
      "metadata": {
        "id": "qIq_ef9Lawrn"
      },
      "source": [
        "#Calculate Volume(*e*) of each element"
      ]
    },
    {
      "cell_type": "markdown",
      "metadata": {
        "id": "9Re5WQuw0LR6"
      },
      "source": [
        "平面上の異なる３点(x0, y0), (x1, y1), (x2, y2)を頂点に持つ三角形の面積Area[e]\n",
        "$$ Area[e] = \\frac{1}{2} \\left|  det\\left(\n",
        "    \\begin{array}{ccc}\n",
        "      x0 & y0 & 1 \\\\\n",
        "      x1 & y1 & 1 \\\\\n",
        "      x2 & y2 & 1\n",
        "    \\end{array}\n",
        "  \\right) \\right| $$\n",
        "\n",
        "$$ Area[e] = \\frac{1}{2} (x1y2+ x2y0+ x0y1- x2y1- x0y2- x1y0) $$\n"
      ]
    },
    {
      "cell_type": "code",
      "metadata": {
        "id": "nMLshN2jjMpI"
      },
      "source": [
        "Thick = 1.0     #板厚\n",
        "def Make_Volume(e):\n",
        "    x0 = values[e]['x'][0]; y0 = values[e]['y'][0]  #Node0(x0, y0)\n",
        "    x1 = values[e]['x'][1]; y1 = values[e]['y'][1]  #Node1(x1, y1)\n",
        "    x2 = values[e]['x'][2]; y2 = values[e]['y'][2]  #Node2(x2, y2)\n",
        "\n",
        "    Area = (1/2)* ((x1* y2)+ (x2* y0)+ (x0* y1)- (x2* y1)- (x0* y2)- (x1* y0))\n",
        "    #平面上の異なる３点(x0, y0), (x1, y1), (x2, y2)を頂点に持つ三角形の面積Area[e]\n",
        "\n",
        "    Volume = Area* Thick\n",
        "    return Volume\n",
        "\n",
        "Volume = np.zeros((NE), np.float64)\n",
        "for e in range(NE):\n",
        "    Volume[e] = Make_Volume(e)"
      ],
      "execution_count": null,
      "outputs": []
    },
    {
      "cell_type": "markdown",
      "metadata": {
        "id": "iPKhzBUb7mbq"
      },
      "source": [
        "#Making B_Matrix\n",
        "ひずみ-変位マトリクス (Strain-displacement matrix)\n"
      ]
    },
    {
      "cell_type": "markdown",
      "metadata": {
        "id": "4X8WmEh-6ETq"
      },
      "source": [
        "\\begin{align}\n",
        "&\\Delta=1/2\\cdot[(x_k-x_j)y_i+(x_i-x_k)y_j+(x_j-x_i)y_k] \\qquad \\text{（要素面積）}\\\\\n",
        "&[\\boldsymbol{B}]\n",
        "=\\frac{1}{2\\Delta}\n",
        "\\begin{bmatrix}\n",
        "y_j-y_k & 0       & y_k-y_i & 0       & y_i-y_j & 0       \\\\\n",
        "0       & x_k-x_j & 0       & x_i-x_k & 0       & x_j-x_i \\\\\n",
        "x_k-x_j & y_j-y_k & x_i-x_k & y_k-y_i & x_j-x_i & y_i-y_j\n",
        "\\end{bmatrix}\n",
        "\\end{align}\n"
      ]
    },
    {
      "cell_type": "code",
      "metadata": {
        "id": "19MOOHtx7pr6"
      },
      "source": [
        "def Making_B_Matrix(e):\n",
        "    x0 = values[e]['x'][0]; y0 = values[e]['y'][0]  #Node0(x0, y0)\n",
        "    x1 = values[e]['x'][1]; y1 = values[e]['y'][1]  #Node1(x1, y1)\n",
        "    x2 = values[e]['x'][2]; y2 = values[e]['y'][2]  #Node2(x2, y2)\n",
        "    \n",
        "    #B_Matrix作成\n",
        "    B_Matrix = np.zeros((3,6),dtype=np.float64)\n",
        "    Area = (1/2)* ((x2- x1)* y0+ (x0- x2)* y1+ (x1- x0)* y2)\n",
        "    B_Matrix[0,0] =y1-y2; B_Matrix[0,1]=0    ; B_Matrix[0,2]=y2-y0; B_Matrix[0,3]=0    ; B_Matrix[0,4]=y0-y1; B_Matrix[0,5]=0\n",
        "    B_Matrix[1,0] =0    ; B_Matrix[1,1]=x2-x1; B_Matrix[1,2]=0    ; B_Matrix[1,3]=x0-x2; B_Matrix[1,4]=0    ; B_Matrix[1,5]=x1-x0\n",
        "    B_Matrix[2,0] =x2-x1; B_Matrix[2,1]=y1-y2; B_Matrix[2,2]=x0-x2; B_Matrix[2,3]=y2-y0; B_Matrix[2,4]=x1-x0; B_Matrix[2,5]=y0-y1\n",
        "    B_Matrix = B_Matrix/(2/Area)\n",
        "    return B_Matrix, Area\n",
        "\n",
        "B_Matrix = np.zeros((NE, 3, 6), np.float64)\n",
        "Area = np.zeros((NE), np.float64)\n",
        "\n",
        "for e in range(NE):\n",
        "    B_Matrix[e], Area[e]= Making_B_Matrix(e)"
      ],
      "execution_count": null,
      "outputs": []
    },
    {
      "cell_type": "markdown",
      "metadata": {
        "id": "DK80J8056d6F"
      },
      "source": [
        "#Making D_Matrix\n",
        "応力-ひずみマトリクス (Stress-strain matrix)\n",
        "\n"
      ]
    },
    {
      "cell_type": "markdown",
      "metadata": {
        "id": "E8ckvUKb6ddQ"
      },
      "source": [
        "$${\\begin{align}\n",
        "\\text{平面応力（nstr=1）：}& &[\\boldsymbol{D_e}]=\\frac{E}{1-\\nu^2}\\begin{bmatrix} 1 & \\nu & 0 \\\\ \\nu & 1 & 0 \\\\ 0 & 0 & \\cfrac{1-\\nu}{2} \\end{bmatrix} \\qquad\n",
        "\\begin{matrix} E & \\text{：弾性係数(ヤング率)} \\\\ \\nu & \\text{：ポアソン比} \\end{matrix}\n",
        "\\end{align}\n",
        "}$$"
      ]
    },
    {
      "cell_type": "code",
      "metadata": {
        "id": "kJ9aBpikFxZJ"
      },
      "source": [
        "E = 0.5                     #E:ヤング率\n",
        "po = 0.3                    #po:　ポアソン比"
      ],
      "execution_count": null,
      "outputs": []
    },
    {
      "cell_type": "code",
      "metadata": {
        "id": "exwb0nWDzC9L"
      },
      "source": [
        "def Making_D_Matrix(e):       \n",
        "    #平面ひずみのD_Matrix作成\n",
        "    D_Matrix=np.zeros((3,3),dtype=np.float64)\n",
        "    D_Matrix[0,0]=1  ; D_Matrix[0,1]=po         #1.   po.   0\n",
        "    D_Matrix[1,0]=po ; D_Matrix[1,1]=1          #po.  1.    0\n",
        "    D_Matrix[2,2]=0.5*(1-po)                     #0.   0.  (1-2po)/2\n",
        "    D_Matrix=E/(1-po**2)*D_Matrix\n",
        "    return D_Matrix\n",
        "    \n",
        "D_Matrix = np.zeros((NE, 3, 3), np.float64)\n",
        "\n",
        "for e in range(NE):\n",
        "    D_Matrix[e] = Making_D_Matrix(e)"
      ],
      "execution_count": null,
      "outputs": []
    },
    {
      "cell_type": "markdown",
      "metadata": {
        "id": "eIElffwkG7TU"
      },
      "source": [
        "#Making Local_Matrix　\n",
        "要素剛性マトリックスの作成"
      ]
    },
    {
      "cell_type": "markdown",
      "metadata": {
        "id": "UpvCx9cNBYpn"
      },
      "source": [
        "$${\\begin{equation}\n",
        "[\\boldsymbol{k}]=t\\cdot\\int_A[\\boldsymbol{B}]^T[\\boldsymbol{D_e}][\\boldsymbol{B}]dA=t\\cdot\\Delta\\cdot[\\boldsymbol{B}]^T[\\boldsymbol{D_e}][\\boldsymbol{B}]\n",
        "\\end{equation}\n",
        "}$$"
      ]
    },
    {
      "cell_type": "code",
      "metadata": {
        "id": "2LlPdJ-aHCR1"
      },
      "source": [
        "def Making_Local_Matrix(e):\n",
        "    #Element Stiffness matrix: [Local_Matrix]=[B_Matrix]T[D_Matrix][B_Matrix]*Thick*det(J)\n",
        "    Local_Matrix = np.dot(B_Matrix[e].T, np.dot(D_Matrix[e], B_Matrix[e]))*Thick*Area[e]    #np.dot : 行列の積\n",
        "    return Local_Matrix\n",
        "    \n",
        "Local_Matrix = np.zeros((NE, 6, 6), np.float64)\n",
        "for e in range(NE):\n",
        "    Local_Matrix[e] = Making_Local_Matrix(e)"
      ],
      "execution_count": null,
      "outputs": []
    },
    {
      "cell_type": "markdown",
      "metadata": {
        "id": "U2pDenoFIlCV"
      },
      "source": [
        "#Making Global_Matrix\n",
        "全体剛性マトリクスの作成"
      ]
    },
    {
      "cell_type": "code",
      "metadata": {
        "id": "QSwFARVkJ1_1"
      },
      "source": [
        "Matrix_tmp = np.zeros((NE, 3, 3, 2, 2), np.float64)\n",
        "for e in range(NE):\n",
        "    for i in range(3):                                                                  # i : 0,1,2\n",
        "        for j in range(3):                                                              # j : 0,1,2\n",
        "            for dl in range(2):                                                         #dl : 0, 1\n",
        "                for dm in range(2):                                                    #dm : 0,1\n",
        "                    l = (2 * i + (dl +1)) -1                                                      # i, dl は０始まりなのでそれぞれ＋１，最後にLocal_Matirxも0始まりなので-1\n",
        "                    m = (2 * j + (dm +1)) -1                                                   # j, dm は０始まりなのでそれぞれ＋１，最後にLocal_Matirxも0始まりなので-1\n",
        "                    Matrix_tmp[e, i, j, dl, dm] = Local_Matrix[e][l][m]                      #Local_MatrixをMatrix_tmpに置き換える\n",
        "\n",
        "Global_Matrix = np.zeros((2*NN, 2*NN), np.float64)\n",
        "for e in range(NE):\n",
        "    for i in range(3):\n",
        "        for j in range(3):\n",
        "            for dl in range(2):\n",
        "                for dm in range(2):\n",
        "                    L= (2* (Element[e, i]-1) + (dl +1)) -1\n",
        "                    M= (2* (Element[e, j]-1)+ (dm +1)) -1\n",
        "                    Global_Matrix[L][M] = Global_Matrix[L][M] + Matrix_tmp[e, i, j, dl, dm]                      #全体剛性マトリクスK[L, M]を求める"
      ],
      "execution_count": null,
      "outputs": []
    },
    {
      "cell_type": "code",
      "metadata": {
        "colab": {
          "base_uri": "https://localhost:8080/"
        },
        "id": "pc324IuOfPeQ",
        "outputId": "573c256e-956c-4bda-f87e-3d7b3480ded0"
      },
      "source": [
        "print(Global_Matrix)"
      ],
      "execution_count": null,
      "outputs": [
        {
          "output_type": "stream",
          "text": [
            "[[ 9.41535356e-16 -1.06432608e-21 -1.06433632e-16 ...  0.00000000e+00\n",
            "   0.00000000e+00  0.00000000e+00]\n",
            " [-1.06432608e-21  1.04797329e-15 -1.63744930e-22 ...  0.00000000e+00\n",
            "   0.00000000e+00  0.00000000e+00]\n",
            " [-1.06433632e-16 -1.63744930e-22  4.42112459e-16 ...  0.00000000e+00\n",
            "   0.00000000e+00  0.00000000e+00]\n",
            " ...\n",
            " [ 0.00000000e+00  0.00000000e+00  0.00000000e+00 ...  1.63744112e-31\n",
            "  -1.06432608e-36 -1.63744112e-31]\n",
            " [ 0.00000000e+00  0.00000000e+00  0.00000000e+00 ... -1.06432608e-36\n",
            "   2.29241757e-31  0.00000000e+00]\n",
            " [ 0.00000000e+00  0.00000000e+00  0.00000000e+00 ... -1.63744112e-31\n",
            "   0.00000000e+00  6.54976447e-31]]\n"
          ],
          "name": "stdout"
        }
      ]
    },
    {
      "cell_type": "markdown",
      "metadata": {
        "id": "y_nUOLDyI6Bt"
      },
      "source": [
        "#Making Edge Data\n"
      ]
    },
    {
      "cell_type": "code",
      "metadata": {
        "id": "PoMG8WJVJUuN",
        "colab": {
          "base_uri": "https://localhost:8080/"
        },
        "outputId": "97ae8202-50c9-474f-f7a4-90305d9176ba"
      },
      "source": [
        "Number_Xmin = []\n",
        "Number_Xmax = []\n",
        "X_min = 0\n",
        "X_max = 0\n",
        "IG = 0\n",
        "IH = 0\n",
        "\n",
        "for N in range(NN):\n",
        "    if (Position_Node[N][0] < X_min):\n",
        "        X_min = Position_Node[N][0]\n",
        "\n",
        "    if (Position_Node[N][0] > X_max):\n",
        "        X_max = Position_Node[N][0]\n",
        "\n",
        "    if (Position_Node[N][0] == X_min):\n",
        "        Number_Xmin.append(N)\n",
        "        IG = IG+ 1\n",
        "\n",
        "    if (Position_Node[N][0] == X_min):\n",
        "        Number_Xmax.append(N)\n",
        "        IH = IH+ 1\n",
        "\n",
        "print(IG)\n",
        "print(IH)\n",
        "print(Number_Xmax)"
      ],
      "execution_count": null,
      "outputs": [
        {
          "output_type": "stream",
          "text": [
            "44\n",
            "44\n",
            "[0, 1, 3, 243, 404, 565, 726, 887, 1048, 1209, 1370, 1531, 1692, 1853, 2014, 2175, 2336, 2497, 2658, 2819, 2980, 3141, 3302, 3463, 3624, 3785, 3946, 4107, 4268, 4429, 4590, 4751, 4912, 5073, 5234, 5395, 5556, 5717, 5878, 6039, 6200, 6361, 6521, 6683]\n"
          ],
          "name": "stdout"
        }
      ]
    },
    {
      "cell_type": "code",
      "metadata": {
        "id": "eJLlIWDUX_eS"
      },
      "source": [
        "# #mpfix =各接点毎の拘束条件を格納した配列（＝１：拘束，　＝０：自由）， fp=接点荷重ベクトル， rdis=変位拘束する節点の変位量， disg=全体剛性方程式の解（変位）\n",
        "# # treatment of boundary conditions\n",
        "#     for i in range(0,NE):\n",
        "#         for j in range(0,2):\n",
        "#             if mpfix[j,i]==1:\n",
        "#                 iz=i*2+j\n",
        "#                 fp[iz]=0.0\n",
        "#     for i in range(0,NE):\n",
        "#         for j in range(0,2):\n",
        "#             if mpfix[j,i]==1:\n",
        "#                 iz=i*2+j\n",
        "#                 fp=fp-rdis[j,i]*Global_Matrix[:,iz]\n",
        "#                 Global_Matrix[:,iz]=0.0\n",
        "#                 Global_Matrix[iz,iz]=1.0\n",
        "#     # solution of simultaneous linear equations\n",
        "#     #disg = np.linalg.solve(Global_Matrix, fp)\n",
        "#     Global_Matrix = csr_matrix(Global_Matrix)\n",
        "#     disg = spsolve(Global_Matrix, fp, use_umfpack=True)\n",
        "#     # recovery of restricted displacements\n",
        "#     for i in range(0,NE):\n",
        "#         for j in range(0,NE):\n",
        "#             if mpfix[j,i]==1:\n",
        "#                 iz=i*NE+j\n",
        "#                 disg[iz]=rdis[j,i]"
      ],
      "execution_count": null,
      "outputs": []
    },
    {
      "cell_type": "code",
      "metadata": {
        "id": "RPxMA-e6YZ5x"
      },
      "source": [
        "# # treatment of boundary conditions\n",
        "#     for i in range(0,NE):\n",
        "#         for j in range(0,2):\n",
        "#             if mpfix[j,i]==1:\n",
        "#                 iz=i*2+j\n",
        "#                 fp[iz]=0.0\n",
        "#     for i in range(0,NE):\n",
        "#         for j in range(0,2):\n",
        "#             if mpfix[j,i]==1:\n",
        "#                 iz=i*2+j\n",
        "#                 fp=fp-rdis[j,i]*Global_Matrix[:,iz]\n",
        "#                 Global_Matrix[:,iz]=0.0\n",
        "#                 Global_Matrix[iz,iz]=1.0\n",
        "#     # solution of simultaneous linear equations\n",
        "#     #disg = np.linalg.solve(Global_Matrix, fp)\n",
        "#     Global_Matrix = csr_matrix(Global_Matrix)\n",
        "#     disg = spsolve(Global_Matrix, fp, use_umfpack=True)\n",
        "#     # recovery of restricted displacements\n",
        "#     for i in range(0,NE):\n",
        "#         for j in range(0,2):\n",
        "#             if mpfix[j,i]==1:\n",
        "#                 iz=i*2+j\n",
        "#                 disg[iz]=rdis[j,i]"
      ],
      "execution_count": null,
      "outputs": []
    },
    {
      "cell_type": "markdown",
      "metadata": {
        "id": "BkOex1lH3J-4"
      },
      "source": [
        "#Make Force\n"
      ]
    },
    {
      "cell_type": "code",
      "metadata": {
        "id": "Te4vcwR83Pyn"
      },
      "source": [
        "Force = np.zeros((2*NN), np.float64)\n",
        "Load = 0.001\n",
        "\n",
        "for I in range(IH-1):\n",
        "    for J in range((2*NN)-1):\n",
        "        if (J == 2*Number_Xmax[I]):\n",
        "            Force[J] = -Load"
      ],
      "execution_count": null,
      "outputs": []
    },
    {
      "cell_type": "markdown",
      "metadata": {
        "id": "UlGYw9_6JWnk"
      },
      "source": [
        "#Setting dirichilet boundary\n",
        "ディレクリ境界条件の実装"
      ]
    },
    {
      "cell_type": "code",
      "metadata": {
        "id": "RDth_FUbJhBW"
      },
      "source": [
        "for I in range(IG):\n",
        "    for J in range(2*NN):\n",
        "        if (J == (2*Number_Xmin[I])):\n",
        "            Global_Matrix[2*Number_Xmin[I]][J] = 1\n",
        "        else:\n",
        "            Global_Matrix[2*Number_Xmin[I]][J] = 0\n",
        "            Global_Matrix[J][2*Number_Xmin[I]] = 0\n",
        "\n",
        "        if (J == 2*Number_Xmin):\n",
        "            Global_Matrix[2*Number_Xmin[I]+1][J] = 1\n",
        "        else:\n",
        "            Global_Matrix[2*Number_Xmin[I]+1][J] = 0\n",
        "            Global_Matrix[J][2*Number_Xmin[I]+1] = 0"
      ],
      "execution_count": null,
      "outputs": []
    },
    {
      "cell_type": "markdown",
      "metadata": {
        "id": "ErQpOxzUJhw6"
      },
      "source": [
        "#Calculating Simultaneous equation\n",
        "連立方程式を解く"
      ]
    },
    {
      "cell_type": "code",
      "metadata": {
        "id": "mKOzyuv3J0U3",
        "colab": {
          "base_uri": "https://localhost:8080/",
          "height": 236
        },
        "outputId": "5a6cbca1-c5c5-462f-c5fe-aca12678199e"
      },
      "source": [
        "Solution = []\n",
        "# Solution = np.zeros((NN, NN), np.float64)\n",
        "\n",
        "Ainv = np.linalg.pinv(Global_Matrix)\n",
        "disg = np.dot(Ainv, Force)\n",
        "\n",
        "# info = dgesv (2*NN, Global_Matrix, ipiv, Force)\n",
        "for n in range(NN):\n",
        "    Solution.append([Position_Node[n][0] + Force[2*n], Position_Node[n][1]+ Force[2*n+1]])"
      ],
      "execution_count": null,
      "outputs": [
        {
          "output_type": "error",
          "ename": "NameError",
          "evalue": "ignored",
          "traceback": [
            "\u001b[0;31m---------------------------------------------------------------------------\u001b[0m",
            "\u001b[0;31mNameError\u001b[0m                                 Traceback (most recent call last)",
            "\u001b[0;32m<ipython-input-141-7ebe4bb77260>\u001b[0m in \u001b[0;36m<module>\u001b[0;34m()\u001b[0m\n\u001b[1;32m      2\u001b[0m \u001b[0;31m# Solution = np.zeros((NN, NN), np.float64)\u001b[0m\u001b[0;34m\u001b[0m\u001b[0;34m\u001b[0m\u001b[0;34m\u001b[0m\u001b[0m\n\u001b[1;32m      3\u001b[0m \u001b[0;34m\u001b[0m\u001b[0m\n\u001b[0;32m----> 4\u001b[0;31m \u001b[0minfo\u001b[0m \u001b[0;34m=\u001b[0m \u001b[0mdgesv\u001b[0m \u001b[0;34m(\u001b[0m\u001b[0;36m2\u001b[0m\u001b[0;34m*\u001b[0m\u001b[0mNN\u001b[0m\u001b[0;34m,\u001b[0m \u001b[0mGlobal_Matrix\u001b[0m\u001b[0;34m,\u001b[0m \u001b[0mipiv\u001b[0m\u001b[0;34m,\u001b[0m \u001b[0mForce\u001b[0m\u001b[0;34m)\u001b[0m\u001b[0;34m\u001b[0m\u001b[0;34m\u001b[0m\u001b[0m\n\u001b[0m\u001b[1;32m      5\u001b[0m \u001b[0;32mfor\u001b[0m \u001b[0mn\u001b[0m \u001b[0;32min\u001b[0m \u001b[0mrange\u001b[0m\u001b[0;34m(\u001b[0m\u001b[0mNN\u001b[0m\u001b[0;34m)\u001b[0m\u001b[0;34m:\u001b[0m\u001b[0;34m\u001b[0m\u001b[0;34m\u001b[0m\u001b[0m\n\u001b[1;32m      6\u001b[0m     \u001b[0mSolution\u001b[0m\u001b[0;34m.\u001b[0m\u001b[0mappend\u001b[0m\u001b[0;34m(\u001b[0m\u001b[0;34m[\u001b[0m\u001b[0mPosition_Node\u001b[0m\u001b[0;34m[\u001b[0m\u001b[0mn\u001b[0m\u001b[0;34m]\u001b[0m\u001b[0;34m[\u001b[0m\u001b[0;36m0\u001b[0m\u001b[0;34m]\u001b[0m \u001b[0;34m+\u001b[0m \u001b[0mForce\u001b[0m\u001b[0;34m[\u001b[0m\u001b[0;36m2\u001b[0m\u001b[0;34m*\u001b[0m\u001b[0mn\u001b[0m\u001b[0;34m-\u001b[0m\u001b[0;36m2\u001b[0m\u001b[0;34m]\u001b[0m\u001b[0;34m,\u001b[0m \u001b[0mPosition_Node\u001b[0m\u001b[0;34m[\u001b[0m\u001b[0mn\u001b[0m\u001b[0;34m]\u001b[0m\u001b[0;34m[\u001b[0m\u001b[0;36m1\u001b[0m\u001b[0;34m]\u001b[0m\u001b[0;34m+\u001b[0m \u001b[0mForce\u001b[0m\u001b[0;34m[\u001b[0m\u001b[0;36m2\u001b[0m\u001b[0;34m*\u001b[0m\u001b[0mn\u001b[0m\u001b[0;34m-\u001b[0m\u001b[0;36m1\u001b[0m\u001b[0;34m]\u001b[0m\u001b[0;34m]\u001b[0m\u001b[0;34m)\u001b[0m\u001b[0;34m\u001b[0m\u001b[0;34m\u001b[0m\u001b[0m\n",
            "\u001b[0;31mNameError\u001b[0m: name 'dgesv' is not defined"
          ]
        }
      ]
    },
    {
      "cell_type": "markdown",
      "metadata": {
        "id": "LRPQSy8Na1IM"
      },
      "source": [
        "#Result Visuallization"
      ]
    },
    {
      "cell_type": "code",
      "metadata": {
        "id": "0tfDoCdePGQZ"
      },
      "source": [
        "show3D(x0, y0, z)"
      ],
      "execution_count": null,
      "outputs": []
    },
    {
      "cell_type": "markdown",
      "metadata": {
        "id": "UtrxP9-mYyrD"
      },
      "source": [
        "#実行コード"
      ]
    },
    {
      "cell_type": "markdown",
      "metadata": {
        "id": "8QR6IX41Y4qb"
      },
      "source": [
        "## Initial Setting"
      ]
    },
    {
      "cell_type": "code",
      "metadata": {
        "id": "uK497q57fU0E"
      },
      "source": [
        "# Initial_Setting()\n",
        "#Initial_Setting(nstr, E, Po, BC_left, BC_right, BC_upper, BC_lower,  )\n",
        "    #nstr=0:平面ひずみ（要素板厚t=1とする）\n",
        "    #nstr=1:平面応力\n",
        "    #E:ヤング率\n",
        "    #Po:ポアソン比\n",
        "    #BC_　:Boundary Condition of each egde 各端の境界条件\n"
      ],
      "execution_count": null,
      "outputs": []
    }
  ]
}